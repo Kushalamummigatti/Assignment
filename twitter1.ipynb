{
 "cells": [
  {
   "cell_type": "code",
   "execution_count": 196,
   "source": [
    "import pandas as pd\r\n",
    "import numpy as np \r\n",
    "import matplotlib as plt\r\n",
    "import sklearn"
   ],
   "outputs": [],
   "metadata": {}
  },
  {
   "cell_type": "code",
   "execution_count": 197,
   "source": [
    "df = pd.read_csv(r\"D:\\scrappy tuto\\Twitter.csv\")\r\n",
    "df.head()"
   ],
   "outputs": [
    {
     "output_type": "execute_result",
     "data": {
      "text/plain": [
       "   Unnamed: 0                                        Id  \\\n",
       "0       41370  6d967b125fcecba6357dbc43f8f380cf2d6d7a51   \n",
       "1       27955  22dc5f808a8589186767412f39e5c88ae9753d04   \n",
       "2       38151  7f224e66ad757e3066d45947881bcaab91f8e57f   \n",
       "3       13558  5acc220e7a337efafc4c847b7f74680ca2515890   \n",
       "4       17071  863abf834897a06afdc459788b34abeae6298f3a   \n",
       "\n",
       "                                         Post Contet  Sentiment score  \\\n",
       "0                                  Sana all na lang.              0.0   \n",
       "1  キスマイ玉森裕太「ボス恋」台本の裏話明かす\\n\\n@TBS_asachan @bosskoi...             19.3   \n",
       "2  SuperM’s album isn’t even out yet and there’s ...              0.0   \n",
       "3  மத்திய அரசின் நலத்திட்டங்களை மக்களுக்கு சென்று...              0.0   \n",
       "4  【熊本県人吉市】球磨川氾濫後のくま川鉄道の線路被害状況 hamusoku.com/archi...            -20.0   \n",
       "\n",
       "   Post Length  Hashtag count  Content URL count  Tweet count  \\\n",
       "0         17.0            0.0                0.0       1660.0   \n",
       "1         84.0            0.0                1.0     318924.0   \n",
       "2         78.0            0.0                0.0      39976.0   \n",
       "3        284.0            2.0                0.0       8045.0   \n",
       "4         80.0            0.0                1.0     210996.0   \n",
       "\n",
       "   Followers count  Listed Count Media Type         Published DateTime  \\\n",
       "0            133.0             0       TEXT  2021-01-28 12:17:24+00:00   \n",
       "1        1428273.0          5454       TEXT  2021-02-24 06:51:02+00:00   \n",
       "2           1560.0             0       TEXT  2020-09-15 01:16:32+00:00   \n",
       "3          27191.0            26       TEXT  2021-02-14 03:53:53+00:00   \n",
       "4           2385.0             0      IMAGE  2020-07-04 13:06:16+00:00   \n",
       "\n",
       "   Mentions Count  Post author verified  Likes  Shares  Comments  Impact  \n",
       "0             0.0                   0.0    0.0     0.0       0.0     0.0  \n",
       "1             0.0                   1.0   10.0     1.0       0.0   110.0  \n",
       "2             0.0                   0.0    0.0     0.0       0.0     0.0  \n",
       "3             0.0                   1.0  460.0   219.0       4.0  6830.0  \n",
       "4             0.0                   0.0    0.0     0.0       0.0     0.0  "
      ],
      "text/html": [
       "<div>\n",
       "<style scoped>\n",
       "    .dataframe tbody tr th:only-of-type {\n",
       "        vertical-align: middle;\n",
       "    }\n",
       "\n",
       "    .dataframe tbody tr th {\n",
       "        vertical-align: top;\n",
       "    }\n",
       "\n",
       "    .dataframe thead th {\n",
       "        text-align: right;\n",
       "    }\n",
       "</style>\n",
       "<table border=\"1\" class=\"dataframe\">\n",
       "  <thead>\n",
       "    <tr style=\"text-align: right;\">\n",
       "      <th></th>\n",
       "      <th>Unnamed: 0</th>\n",
       "      <th>Id</th>\n",
       "      <th>Post Contet</th>\n",
       "      <th>Sentiment score</th>\n",
       "      <th>Post Length</th>\n",
       "      <th>Hashtag count</th>\n",
       "      <th>Content URL count</th>\n",
       "      <th>Tweet count</th>\n",
       "      <th>Followers count</th>\n",
       "      <th>Listed Count</th>\n",
       "      <th>Media Type</th>\n",
       "      <th>Published DateTime</th>\n",
       "      <th>Mentions Count</th>\n",
       "      <th>Post author verified</th>\n",
       "      <th>Likes</th>\n",
       "      <th>Shares</th>\n",
       "      <th>Comments</th>\n",
       "      <th>Impact</th>\n",
       "    </tr>\n",
       "  </thead>\n",
       "  <tbody>\n",
       "    <tr>\n",
       "      <th>0</th>\n",
       "      <td>41370</td>\n",
       "      <td>6d967b125fcecba6357dbc43f8f380cf2d6d7a51</td>\n",
       "      <td>Sana all na lang.</td>\n",
       "      <td>0.0</td>\n",
       "      <td>17.0</td>\n",
       "      <td>0.0</td>\n",
       "      <td>0.0</td>\n",
       "      <td>1660.0</td>\n",
       "      <td>133.0</td>\n",
       "      <td>0</td>\n",
       "      <td>TEXT</td>\n",
       "      <td>2021-01-28 12:17:24+00:00</td>\n",
       "      <td>0.0</td>\n",
       "      <td>0.0</td>\n",
       "      <td>0.0</td>\n",
       "      <td>0.0</td>\n",
       "      <td>0.0</td>\n",
       "      <td>0.0</td>\n",
       "    </tr>\n",
       "    <tr>\n",
       "      <th>1</th>\n",
       "      <td>27955</td>\n",
       "      <td>22dc5f808a8589186767412f39e5c88ae9753d04</td>\n",
       "      <td>キスマイ玉森裕太「ボス恋」台本の裏話明かす\\n\\n@TBS_asachan @bosskoi...</td>\n",
       "      <td>19.3</td>\n",
       "      <td>84.0</td>\n",
       "      <td>0.0</td>\n",
       "      <td>1.0</td>\n",
       "      <td>318924.0</td>\n",
       "      <td>1428273.0</td>\n",
       "      <td>5454</td>\n",
       "      <td>TEXT</td>\n",
       "      <td>2021-02-24 06:51:02+00:00</td>\n",
       "      <td>0.0</td>\n",
       "      <td>1.0</td>\n",
       "      <td>10.0</td>\n",
       "      <td>1.0</td>\n",
       "      <td>0.0</td>\n",
       "      <td>110.0</td>\n",
       "    </tr>\n",
       "    <tr>\n",
       "      <th>2</th>\n",
       "      <td>38151</td>\n",
       "      <td>7f224e66ad757e3066d45947881bcaab91f8e57f</td>\n",
       "      <td>SuperM’s album isn’t even out yet and there’s ...</td>\n",
       "      <td>0.0</td>\n",
       "      <td>78.0</td>\n",
       "      <td>0.0</td>\n",
       "      <td>0.0</td>\n",
       "      <td>39976.0</td>\n",
       "      <td>1560.0</td>\n",
       "      <td>0</td>\n",
       "      <td>TEXT</td>\n",
       "      <td>2020-09-15 01:16:32+00:00</td>\n",
       "      <td>0.0</td>\n",
       "      <td>0.0</td>\n",
       "      <td>0.0</td>\n",
       "      <td>0.0</td>\n",
       "      <td>0.0</td>\n",
       "      <td>0.0</td>\n",
       "    </tr>\n",
       "    <tr>\n",
       "      <th>3</th>\n",
       "      <td>13558</td>\n",
       "      <td>5acc220e7a337efafc4c847b7f74680ca2515890</td>\n",
       "      <td>மத்திய அரசின் நலத்திட்டங்களை மக்களுக்கு சென்று...</td>\n",
       "      <td>0.0</td>\n",
       "      <td>284.0</td>\n",
       "      <td>2.0</td>\n",
       "      <td>0.0</td>\n",
       "      <td>8045.0</td>\n",
       "      <td>27191.0</td>\n",
       "      <td>26</td>\n",
       "      <td>TEXT</td>\n",
       "      <td>2021-02-14 03:53:53+00:00</td>\n",
       "      <td>0.0</td>\n",
       "      <td>1.0</td>\n",
       "      <td>460.0</td>\n",
       "      <td>219.0</td>\n",
       "      <td>4.0</td>\n",
       "      <td>6830.0</td>\n",
       "    </tr>\n",
       "    <tr>\n",
       "      <th>4</th>\n",
       "      <td>17071</td>\n",
       "      <td>863abf834897a06afdc459788b34abeae6298f3a</td>\n",
       "      <td>【熊本県人吉市】球磨川氾濫後のくま川鉄道の線路被害状況 hamusoku.com/archi...</td>\n",
       "      <td>-20.0</td>\n",
       "      <td>80.0</td>\n",
       "      <td>0.0</td>\n",
       "      <td>1.0</td>\n",
       "      <td>210996.0</td>\n",
       "      <td>2385.0</td>\n",
       "      <td>0</td>\n",
       "      <td>IMAGE</td>\n",
       "      <td>2020-07-04 13:06:16+00:00</td>\n",
       "      <td>0.0</td>\n",
       "      <td>0.0</td>\n",
       "      <td>0.0</td>\n",
       "      <td>0.0</td>\n",
       "      <td>0.0</td>\n",
       "      <td>0.0</td>\n",
       "    </tr>\n",
       "  </tbody>\n",
       "</table>\n",
       "</div>"
      ]
     },
     "metadata": {},
     "execution_count": 197
    }
   ],
   "metadata": {}
  },
  {
   "cell_type": "markdown",
   "source": [
    "from time import sleep\n",
    "from textblob import TextBlob\n",
    "from textblob.exceptions import NotTranslated    \n",
    "\n",
    "def translate_comment(x):\n",
    "    try:\n",
    "        # Try to translate the string version of the comment\n",
    "        return TextBlob(str(x)).translate(to='en')\n",
    "    except NotTranslated:\n",
    "        # If the output is the same as the input just return the TextBlob version of the input\n",
    "        return TextBlob(str(x))\n",
    "\n",
    "for i in range(len(df['Post Contet'])):\n",
    "    # Translate one comment at a time\n",
    "    df['Post Contet'].iloc[i] = translate_comment(df['Post Contet'].iloc[i])\n",
    "\n",
    "    # Sleep for a quarter of second\n",
    "    sleep(0.25)"
   ],
   "metadata": {}
  },
  {
   "cell_type": "markdown",
   "source": [
    "from langdetect import detect\n",
    "df['lang'] = df['Post Contet'].map(lambda x: detect(x))\n",
    "df = df[df['lang']=='en']"
   ],
   "metadata": {}
  },
  {
   "cell_type": "code",
   "execution_count": 198,
   "source": [
    "df.isna().sum()\r\n",
    "#Data set proves no null value present. Thank god handling null values takes lot of time!!!!"
   ],
   "outputs": [
    {
     "output_type": "execute_result",
     "data": {
      "text/plain": [
       "Unnamed: 0              0\n",
       "Id                      0\n",
       "Post Contet             0\n",
       "Sentiment score         0\n",
       "Post Length             0\n",
       "Hashtag count           0\n",
       "Content URL count       0\n",
       "Tweet count             0\n",
       "Followers count         0\n",
       "Listed Count            0\n",
       "Media Type              0\n",
       "Published DateTime      0\n",
       "Mentions Count          0\n",
       "Post author verified    0\n",
       "Likes                   0\n",
       "Shares                  0\n",
       "Comments                0\n",
       "Impact                  0\n",
       "dtype: int64"
      ]
     },
     "metadata": {},
     "execution_count": 198
    }
   ],
   "metadata": {}
  },
  {
   "cell_type": "code",
   "execution_count": 199,
   "source": [
    "#Importing necessary libraries\r\n",
    "from sklearn.ensemble import GradientBoostingRegressor\r\n",
    "from sklearn.model_selection import train_test_split\r\n",
    "from sklearn.metrics import mean_squared_error\r\n",
    "from sklearn.metrics import mean_absolute_error"
   ],
   "outputs": [],
   "metadata": {}
  },
  {
   "cell_type": "markdown",
   "source": [
    "The columns Id,Post Contet is dropped. I have not used any pre-processing operations. For unique identity unamed 0: is retained. Post content is dropped as all the necessary content is stored in columns to us from Chronicle’s engineering team. (Thanks to them )"
   ],
   "metadata": {}
  },
  {
   "cell_type": "code",
   "execution_count": 200,
   "source": [
    "df.drop([\"Id\",'Post Contet','Unnamed: 0',],axis=1,inplace=True)"
   ],
   "outputs": [],
   "metadata": {}
  },
  {
   "cell_type": "code",
   "execution_count": 201,
   "source": [
    "df.columns"
   ],
   "outputs": [
    {
     "output_type": "execute_result",
     "data": {
      "text/plain": [
       "Index(['Sentiment score', 'Post Length', 'Hashtag count', 'Content URL count',\n",
       "       'Tweet count', 'Followers count', 'Listed Count', 'Media Type',\n",
       "       'Published DateTime', 'Mentions Count', 'Post author verified', 'Likes',\n",
       "       'Shares', 'Comments', 'Impact'],\n",
       "      dtype='object')"
      ]
     },
     "metadata": {},
     "execution_count": 201
    }
   ],
   "metadata": {}
  },
  {
   "cell_type": "code",
   "execution_count": 202,
   "source": [
    "# This column is found to have categories!!!! Lets handle them and convert to numbering type so we fit our models easily(Bindass!!)\r\n",
    "df['Media Type'].unique()"
   ],
   "outputs": [
    {
     "output_type": "execute_result",
     "data": {
      "text/plain": [
       "array(['TEXT', 'IMAGE', 'VIDEO'], dtype=object)"
      ]
     },
     "metadata": {},
     "execution_count": 202
    }
   ],
   "metadata": {}
  },
  {
   "cell_type": "code",
   "execution_count": 203,
   "source": [
    "#Am doing a simple value change not using any encoding things. Keeping the approach simple. :)\r\n",
    "df['Media Type'].replace(to_replace=['TEXT', 'IMAGE', 'VIDEO'], value=[1, 2, 3], inplace=True)"
   ],
   "outputs": [],
   "metadata": {}
  },
  {
   "cell_type": "markdown",
   "source": [
    "The Chronicle’s engineering team has bunched the date and time to single column. I dont like to drop that feature while modelling the models. But, to keep the model simple the column can be dropped. As of now will preserve it. \n",
    "If time doesnot permit me to use the column am dropping it. \n",
    "\n",
    "Below are the steps to do feature engineering for the column published datetime.\n",
    "Finally am dropping Published DateTime column to avoid redundency "
   ],
   "metadata": {}
  },
  {
   "cell_type": "code",
   "execution_count": 204,
   "source": [
    "df['Date'] = pd.to_datetime(df['Published DateTime'], format='%Y-%m-%d %H:%M:%S')"
   ],
   "outputs": [],
   "metadata": {}
  },
  {
   "cell_type": "code",
   "execution_count": 205,
   "source": [
    "df['Date'].dtype"
   ],
   "outputs": [
    {
     "output_type": "execute_result",
     "data": {
      "text/plain": [
       "datetime64[ns, UTC]"
      ]
     },
     "metadata": {},
     "execution_count": 205
    }
   ],
   "metadata": {}
  },
  {
   "cell_type": "code",
   "execution_count": 206,
   "source": [
    "df['date_delta'] = (df['Date'] - df['Date'].min())  / np.timedelta64(1,'D')"
   ],
   "outputs": [],
   "metadata": {}
  },
  {
   "cell_type": "code",
   "execution_count": 207,
   "source": [
    "df['minutes'] = df['Date'].dt.hour * 60 + df['Date'].dt.minute + df['Date'].dt.second/60"
   ],
   "outputs": [],
   "metadata": {}
  },
  {
   "cell_type": "code",
   "execution_count": 208,
   "source": [
    "df=df.drop([\"Published DateTime\",\"Date\"],axis=1)"
   ],
   "outputs": [],
   "metadata": {}
  },
  {
   "cell_type": "code",
   "execution_count": 209,
   "source": [
    "df.head()"
   ],
   "outputs": [
    {
     "output_type": "execute_result",
     "data": {
      "text/plain": [
       "   Sentiment score  Post Length  Hashtag count  Content URL count  \\\n",
       "0              0.0         17.0            0.0                0.0   \n",
       "1             19.3         84.0            0.0                1.0   \n",
       "2              0.0         78.0            0.0                0.0   \n",
       "3              0.0        284.0            2.0                0.0   \n",
       "4            -20.0         80.0            0.0                1.0   \n",
       "\n",
       "   Tweet count  Followers count  Listed Count  Media Type  Mentions Count  \\\n",
       "0       1660.0            133.0             0           1             0.0   \n",
       "1     318924.0        1428273.0          5454           1             0.0   \n",
       "2      39976.0           1560.0             0           1             0.0   \n",
       "3       8045.0          27191.0            26           1             0.0   \n",
       "4     210996.0           2385.0             0           2             0.0   \n",
       "\n",
       "   Post author verified  Likes  Shares  Comments  Impact  date_delta  \\\n",
       "0                   0.0    0.0     0.0       0.0     0.0  302.735856   \n",
       "1                   1.0   10.0     1.0       0.0   110.0  329.509213   \n",
       "2                   0.0    0.0     0.0       0.0     0.0  167.276921   \n",
       "3                   1.0  460.0   219.0       4.0  6830.0  319.386192   \n",
       "4                   0.0    0.0     0.0       0.0     0.0   94.769792   \n",
       "\n",
       "      minutes  \n",
       "0  737.400000  \n",
       "1  411.033333  \n",
       "2   76.533333  \n",
       "3  233.883333  \n",
       "4  786.266667  "
      ],
      "text/html": [
       "<div>\n",
       "<style scoped>\n",
       "    .dataframe tbody tr th:only-of-type {\n",
       "        vertical-align: middle;\n",
       "    }\n",
       "\n",
       "    .dataframe tbody tr th {\n",
       "        vertical-align: top;\n",
       "    }\n",
       "\n",
       "    .dataframe thead th {\n",
       "        text-align: right;\n",
       "    }\n",
       "</style>\n",
       "<table border=\"1\" class=\"dataframe\">\n",
       "  <thead>\n",
       "    <tr style=\"text-align: right;\">\n",
       "      <th></th>\n",
       "      <th>Sentiment score</th>\n",
       "      <th>Post Length</th>\n",
       "      <th>Hashtag count</th>\n",
       "      <th>Content URL count</th>\n",
       "      <th>Tweet count</th>\n",
       "      <th>Followers count</th>\n",
       "      <th>Listed Count</th>\n",
       "      <th>Media Type</th>\n",
       "      <th>Mentions Count</th>\n",
       "      <th>Post author verified</th>\n",
       "      <th>Likes</th>\n",
       "      <th>Shares</th>\n",
       "      <th>Comments</th>\n",
       "      <th>Impact</th>\n",
       "      <th>date_delta</th>\n",
       "      <th>minutes</th>\n",
       "    </tr>\n",
       "  </thead>\n",
       "  <tbody>\n",
       "    <tr>\n",
       "      <th>0</th>\n",
       "      <td>0.0</td>\n",
       "      <td>17.0</td>\n",
       "      <td>0.0</td>\n",
       "      <td>0.0</td>\n",
       "      <td>1660.0</td>\n",
       "      <td>133.0</td>\n",
       "      <td>0</td>\n",
       "      <td>1</td>\n",
       "      <td>0.0</td>\n",
       "      <td>0.0</td>\n",
       "      <td>0.0</td>\n",
       "      <td>0.0</td>\n",
       "      <td>0.0</td>\n",
       "      <td>0.0</td>\n",
       "      <td>302.735856</td>\n",
       "      <td>737.400000</td>\n",
       "    </tr>\n",
       "    <tr>\n",
       "      <th>1</th>\n",
       "      <td>19.3</td>\n",
       "      <td>84.0</td>\n",
       "      <td>0.0</td>\n",
       "      <td>1.0</td>\n",
       "      <td>318924.0</td>\n",
       "      <td>1428273.0</td>\n",
       "      <td>5454</td>\n",
       "      <td>1</td>\n",
       "      <td>0.0</td>\n",
       "      <td>1.0</td>\n",
       "      <td>10.0</td>\n",
       "      <td>1.0</td>\n",
       "      <td>0.0</td>\n",
       "      <td>110.0</td>\n",
       "      <td>329.509213</td>\n",
       "      <td>411.033333</td>\n",
       "    </tr>\n",
       "    <tr>\n",
       "      <th>2</th>\n",
       "      <td>0.0</td>\n",
       "      <td>78.0</td>\n",
       "      <td>0.0</td>\n",
       "      <td>0.0</td>\n",
       "      <td>39976.0</td>\n",
       "      <td>1560.0</td>\n",
       "      <td>0</td>\n",
       "      <td>1</td>\n",
       "      <td>0.0</td>\n",
       "      <td>0.0</td>\n",
       "      <td>0.0</td>\n",
       "      <td>0.0</td>\n",
       "      <td>0.0</td>\n",
       "      <td>0.0</td>\n",
       "      <td>167.276921</td>\n",
       "      <td>76.533333</td>\n",
       "    </tr>\n",
       "    <tr>\n",
       "      <th>3</th>\n",
       "      <td>0.0</td>\n",
       "      <td>284.0</td>\n",
       "      <td>2.0</td>\n",
       "      <td>0.0</td>\n",
       "      <td>8045.0</td>\n",
       "      <td>27191.0</td>\n",
       "      <td>26</td>\n",
       "      <td>1</td>\n",
       "      <td>0.0</td>\n",
       "      <td>1.0</td>\n",
       "      <td>460.0</td>\n",
       "      <td>219.0</td>\n",
       "      <td>4.0</td>\n",
       "      <td>6830.0</td>\n",
       "      <td>319.386192</td>\n",
       "      <td>233.883333</td>\n",
       "    </tr>\n",
       "    <tr>\n",
       "      <th>4</th>\n",
       "      <td>-20.0</td>\n",
       "      <td>80.0</td>\n",
       "      <td>0.0</td>\n",
       "      <td>1.0</td>\n",
       "      <td>210996.0</td>\n",
       "      <td>2385.0</td>\n",
       "      <td>0</td>\n",
       "      <td>2</td>\n",
       "      <td>0.0</td>\n",
       "      <td>0.0</td>\n",
       "      <td>0.0</td>\n",
       "      <td>0.0</td>\n",
       "      <td>0.0</td>\n",
       "      <td>0.0</td>\n",
       "      <td>94.769792</td>\n",
       "      <td>786.266667</td>\n",
       "    </tr>\n",
       "  </tbody>\n",
       "</table>\n",
       "</div>"
      ]
     },
     "metadata": {},
     "execution_count": 209
    }
   ],
   "metadata": {}
  },
  {
   "cell_type": "code",
   "execution_count": 210,
   "source": [
    "#Am choosing all the columns for x by dropping the impact column and considering impact column for target value \r\n",
    "x = df.drop(\"Impact\",axis=1)\r\n",
    "y = df.loc[:,[\"Impact\"]]\r\n",
    "x.columns\r\n",
    "#y.columns"
   ],
   "outputs": [
    {
     "output_type": "execute_result",
     "data": {
      "text/plain": [
       "Index(['Sentiment score', 'Post Length', 'Hashtag count', 'Content URL count',\n",
       "       'Tweet count', 'Followers count', 'Listed Count', 'Media Type',\n",
       "       'Mentions Count', 'Post author verified', 'Likes', 'Shares', 'Comments',\n",
       "       'date_delta', 'minutes'],\n",
       "      dtype='object')"
      ]
     },
     "metadata": {},
     "execution_count": 210
    }
   ],
   "metadata": {}
  },
  {
   "cell_type": "markdown",
   "source": [
    "# Scatter Plot"
   ],
   "metadata": {}
  },
  {
   "cell_type": "code",
   "execution_count": 212,
   "source": [
    "from sklearn.ensemble import GradientBoostingRegressor\r\n",
    "from sklearn.model_selection import train_test_split\r\n",
    "from sklearn.metrics import mean_squared_error\r\n",
    "from sklearn.metrics import mean_absolute_error\r\n",
    "from sklearn import ensemble"
   ],
   "outputs": [],
   "metadata": {}
  },
  {
   "cell_type": "code",
   "execution_count": 216,
   "source": [
    "x_train,x_test,y_train,y_test=train_test_split(x,y,test_size=0.1,random_state=13)\r\n",
    "params = {'n_estimators': 500,\r\n",
    "          'max_depth': 4,\r\n",
    "          'min_samples_split': 5,\r\n",
    "          'learning_rate': 0.01,\r\n",
    "          'loss': 'ls'}"
   ],
   "outputs": [],
   "metadata": {}
  },
  {
   "cell_type": "code",
   "execution_count": 217,
   "source": [
    "estimator = ensemble.GradientBoostingRegressor(**params)\r\n",
    "estimator.fit(x_train, y_train.values.ravel())\r\n",
    "mse = mean_squared_error(y_test, estimator.predict(x_test))\r\n",
    "print(\"The mean squared error (MSE) on test set: {:.4f}\".format(mse))"
   ],
   "outputs": [
    {
     "output_type": "stream",
     "name": "stdout",
     "text": [
      "The mean squared error (MSE) on test set: 6539079.6737\n"
     ]
    }
   ],
   "metadata": {}
  },
  {
   "cell_type": "code",
   "execution_count": 221,
   "source": [
    "y_pred = estimator.predict(x_test)\r\n",
    "print(\"Predictions  :\", y_pred)"
   ],
   "outputs": [
    {
     "output_type": "stream",
     "name": "stdout",
     "text": [
      "Predictions  : [ 69266.785 110620.117   7643.394 ...    519.192    519.192    519.192]\n"
     ]
    }
   ],
   "metadata": {}
  },
  {
   "cell_type": "code",
   "execution_count": 222,
   "source": [
    "print(\"R^2 value: \", estimator.score(x,y))"
   ],
   "outputs": [
    {
     "output_type": "stream",
     "name": "stdout",
     "text": [
      "R^2 value:  0.9995129172944478\n"
     ]
    }
   ],
   "metadata": {}
  }
 ],
 "metadata": {
  "kernelspec": {
   "display_name": "Python 3",
   "language": "python",
   "name": "python3"
  },
  "language_info": {
   "codemirror_mode": {
    "name": "ipython",
    "version": 3
   },
   "file_extension": ".py",
   "mimetype": "text/x-python",
   "name": "python",
   "nbconvert_exporter": "python",
   "pygments_lexer": "ipython3",
   "version": "3.8.8"
  }
 },
 "nbformat": 4,
 "nbformat_minor": 2
}