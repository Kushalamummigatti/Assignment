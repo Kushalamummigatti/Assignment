{
    "cells": [
        {
            "cell_type": "code",
            "execution_count": 194,
            "source": [
                "import pandas as pd\r\n",
                "import numpy as np \r\n",
                "import matplotlib as plt\r\n",
                "import sklearn "
            ],
            "outputs": [],
            "metadata": {}
        },
        {
            "cell_type": "code",
            "execution_count": 195,
            "source": [
                "df = pd.read_csv(r\"D:\\scrappy tuto\\Twitter.csv\")\r\n",
                "df.head()"
            ],
            "outputs": [
                {
                    "output_type": "execute_result",
                    "data": {
                        "text/plain": [
                            "   Unnamed: 0                                        Id  \\\n",
                            "0       41370  6d967b125fcecba6357dbc43f8f380cf2d6d7a51   \n",
                            "1       27955  22dc5f808a8589186767412f39e5c88ae9753d04   \n",
                            "2       38151  7f224e66ad757e3066d45947881bcaab91f8e57f   \n",
                            "3       13558  5acc220e7a337efafc4c847b7f74680ca2515890   \n",
                            "4       17071  863abf834897a06afdc459788b34abeae6298f3a   \n",
                            "\n",
                            "                                         Post Contet  Sentiment score  \\\n",
                            "0                                  Sana all na lang.              0.0   \n",
                            "1  キスマイ玉森裕太「ボス恋」台本の裏話明かす\\n\\n@TBS_asachan @bosskoi...             19.3   \n",
                            "2  SuperM’s album isn’t even out yet and there’s ...              0.0   \n",
                            "3  மத்திய அரசின் நலத்திட்டங்களை மக்களுக்கு சென்று...              0.0   \n",
                            "4  【熊本県人吉市】球磨川氾濫後のくま川鉄道の線路被害状況 hamusoku.com/archi...            -20.0   \n",
                            "\n",
                            "   Post Length  Hashtag count  Content URL count  Tweet count  \\\n",
                            "0         17.0            0.0                0.0       1660.0   \n",
                            "1         84.0            0.0                1.0     318924.0   \n",
                            "2         78.0            0.0                0.0      39976.0   \n",
                            "3        284.0            2.0                0.0       8045.0   \n",
                            "4         80.0            0.0                1.0     210996.0   \n",
                            "\n",
                            "   Followers count  Listed Count Media Type         Published DateTime  \\\n",
                            "0            133.0             0       TEXT  2021-01-28 12:17:24+00:00   \n",
                            "1        1428273.0          5454       TEXT  2021-02-24 06:51:02+00:00   \n",
                            "2           1560.0             0       TEXT  2020-09-15 01:16:32+00:00   \n",
                            "3          27191.0            26       TEXT  2021-02-14 03:53:53+00:00   \n",
                            "4           2385.0             0      IMAGE  2020-07-04 13:06:16+00:00   \n",
                            "\n",
                            "   Mentions Count  Post author verified  Likes  Shares  Comments  Impact  \n",
                            "0             0.0                   0.0    0.0     0.0       0.0     0.0  \n",
                            "1             0.0                   1.0   10.0     1.0       0.0   110.0  \n",
                            "2             0.0                   0.0    0.0     0.0       0.0     0.0  \n",
                            "3             0.0                   1.0  460.0   219.0       4.0  6830.0  \n",
                            "4             0.0                   0.0    0.0     0.0       0.0     0.0  "
                        ],
                        "text/html": [
                            "<div>\n",
                            "<style scoped>\n",
                            "    .dataframe tbody tr th:only-of-type {\n",
                            "        vertical-align: middle;\n",
                            "    }\n",
                            "\n",
                            "    .dataframe tbody tr th {\n",
                            "        vertical-align: top;\n",
                            "    }\n",
                            "\n",
                            "    .dataframe thead th {\n",
                            "        text-align: right;\n",
                            "    }\n",
                            "</style>\n",
                            "<table border=\"1\" class=\"dataframe\">\n",
                            "  <thead>\n",
                            "    <tr style=\"text-align: right;\">\n",
                            "      <th></th>\n",
                            "      <th>Unnamed: 0</th>\n",
                            "      <th>Id</th>\n",
                            "      <th>Post Contet</th>\n",
                            "      <th>Sentiment score</th>\n",
                            "      <th>Post Length</th>\n",
                            "      <th>Hashtag count</th>\n",
                            "      <th>Content URL count</th>\n",
                            "      <th>Tweet count</th>\n",
                            "      <th>Followers count</th>\n",
                            "      <th>Listed Count</th>\n",
                            "      <th>Media Type</th>\n",
                            "      <th>Published DateTime</th>\n",
                            "      <th>Mentions Count</th>\n",
                            "      <th>Post author verified</th>\n",
                            "      <th>Likes</th>\n",
                            "      <th>Shares</th>\n",
                            "      <th>Comments</th>\n",
                            "      <th>Impact</th>\n",
                            "    </tr>\n",
                            "  </thead>\n",
                            "  <tbody>\n",
                            "    <tr>\n",
                            "      <th>0</th>\n",
                            "      <td>41370</td>\n",
                            "      <td>6d967b125fcecba6357dbc43f8f380cf2d6d7a51</td>\n",
                            "      <td>Sana all na lang.</td>\n",
                            "      <td>0.0</td>\n",
                            "      <td>17.0</td>\n",
                            "      <td>0.0</td>\n",
                            "      <td>0.0</td>\n",
                            "      <td>1660.0</td>\n",
                            "      <td>133.0</td>\n",
                            "      <td>0</td>\n",
                            "      <td>TEXT</td>\n",
                            "      <td>2021-01-28 12:17:24+00:00</td>\n",
                            "      <td>0.0</td>\n",
                            "      <td>0.0</td>\n",
                            "      <td>0.0</td>\n",
                            "      <td>0.0</td>\n",
                            "      <td>0.0</td>\n",
                            "      <td>0.0</td>\n",
                            "    </tr>\n",
                            "    <tr>\n",
                            "      <th>1</th>\n",
                            "      <td>27955</td>\n",
                            "      <td>22dc5f808a8589186767412f39e5c88ae9753d04</td>\n",
                            "      <td>キスマイ玉森裕太「ボス恋」台本の裏話明かす\\n\\n@TBS_asachan @bosskoi...</td>\n",
                            "      <td>19.3</td>\n",
                            "      <td>84.0</td>\n",
                            "      <td>0.0</td>\n",
                            "      <td>1.0</td>\n",
                            "      <td>318924.0</td>\n",
                            "      <td>1428273.0</td>\n",
                            "      <td>5454</td>\n",
                            "      <td>TEXT</td>\n",
                            "      <td>2021-02-24 06:51:02+00:00</td>\n",
                            "      <td>0.0</td>\n",
                            "      <td>1.0</td>\n",
                            "      <td>10.0</td>\n",
                            "      <td>1.0</td>\n",
                            "      <td>0.0</td>\n",
                            "      <td>110.0</td>\n",
                            "    </tr>\n",
                            "    <tr>\n",
                            "      <th>2</th>\n",
                            "      <td>38151</td>\n",
                            "      <td>7f224e66ad757e3066d45947881bcaab91f8e57f</td>\n",
                            "      <td>SuperM’s album isn’t even out yet and there’s ...</td>\n",
                            "      <td>0.0</td>\n",
                            "      <td>78.0</td>\n",
                            "      <td>0.0</td>\n",
                            "      <td>0.0</td>\n",
                            "      <td>39976.0</td>\n",
                            "      <td>1560.0</td>\n",
                            "      <td>0</td>\n",
                            "      <td>TEXT</td>\n",
                            "      <td>2020-09-15 01:16:32+00:00</td>\n",
                            "      <td>0.0</td>\n",
                            "      <td>0.0</td>\n",
                            "      <td>0.0</td>\n",
                            "      <td>0.0</td>\n",
                            "      <td>0.0</td>\n",
                            "      <td>0.0</td>\n",
                            "    </tr>\n",
                            "    <tr>\n",
                            "      <th>3</th>\n",
                            "      <td>13558</td>\n",
                            "      <td>5acc220e7a337efafc4c847b7f74680ca2515890</td>\n",
                            "      <td>மத்திய அரசின் நலத்திட்டங்களை மக்களுக்கு சென்று...</td>\n",
                            "      <td>0.0</td>\n",
                            "      <td>284.0</td>\n",
                            "      <td>2.0</td>\n",
                            "      <td>0.0</td>\n",
                            "      <td>8045.0</td>\n",
                            "      <td>27191.0</td>\n",
                            "      <td>26</td>\n",
                            "      <td>TEXT</td>\n",
                            "      <td>2021-02-14 03:53:53+00:00</td>\n",
                            "      <td>0.0</td>\n",
                            "      <td>1.0</td>\n",
                            "      <td>460.0</td>\n",
                            "      <td>219.0</td>\n",
                            "      <td>4.0</td>\n",
                            "      <td>6830.0</td>\n",
                            "    </tr>\n",
                            "    <tr>\n",
                            "      <th>4</th>\n",
                            "      <td>17071</td>\n",
                            "      <td>863abf834897a06afdc459788b34abeae6298f3a</td>\n",
                            "      <td>【熊本県人吉市】球磨川氾濫後のくま川鉄道の線路被害状況 hamusoku.com/archi...</td>\n",
                            "      <td>-20.0</td>\n",
                            "      <td>80.0</td>\n",
                            "      <td>0.0</td>\n",
                            "      <td>1.0</td>\n",
                            "      <td>210996.0</td>\n",
                            "      <td>2385.0</td>\n",
                            "      <td>0</td>\n",
                            "      <td>IMAGE</td>\n",
                            "      <td>2020-07-04 13:06:16+00:00</td>\n",
                            "      <td>0.0</td>\n",
                            "      <td>0.0</td>\n",
                            "      <td>0.0</td>\n",
                            "      <td>0.0</td>\n",
                            "      <td>0.0</td>\n",
                            "      <td>0.0</td>\n",
                            "    </tr>\n",
                            "  </tbody>\n",
                            "</table>\n",
                            "</div>"
                        ]
                    },
                    "metadata": {},
                    "execution_count": 195
                }
            ],
            "metadata": {}
        },
        {
            "cell_type": "markdown",
            "source": [
                "from time import sleep\r\n",
                "from textblob import TextBlob\r\n",
                "from textblob.exceptions import NotTranslated    \r\n",
                "\r\n",
                "def translate_comment(x):\r\n",
                "    try:\r\n",
                "        # Try to translate the string version of the comment\r\n",
                "        return TextBlob(str(x)).translate(to='en')\r\n",
                "    except NotTranslated:\r\n",
                "        # If the output is the same as the input just return the TextBlob version of the input\r\n",
                "        return TextBlob(str(x))\r\n",
                "\r\n",
                "for i in range(len(df['Post Contet'])):\r\n",
                "    # Translate one comment at a time\r\n",
                "    df['Post Contet'].iloc[i] = translate_comment(df['Post Contet'].iloc[i])\r\n",
                "\r\n",
                "    # Sleep for a quarter of second\r\n",
                "    sleep(0.25)"
            ],
            "metadata": {}
        },
        {
            "cell_type": "markdown",
            "source": [
                "from langdetect import detect\r\n",
                "df['lang'] = df['Post Contet'].map(lambda x: detect(x))\r\n",
                "df = df[df['lang']=='en']"
            ],
            "metadata": {}
        },
        {
            "cell_type": "code",
            "execution_count": 196,
            "source": [
                "df.isna().sum()\r\n",
                "#Data set proves no null value present. Thank god handling null values takes lot of time!!!!"
            ],
            "outputs": [
                {
                    "output_type": "execute_result",
                    "data": {
                        "text/plain": [
                            "Unnamed: 0              0\n",
                            "Id                      0\n",
                            "Post Contet             0\n",
                            "Sentiment score         0\n",
                            "Post Length             0\n",
                            "Hashtag count           0\n",
                            "Content URL count       0\n",
                            "Tweet count             0\n",
                            "Followers count         0\n",
                            "Listed Count            0\n",
                            "Media Type              0\n",
                            "Published DateTime      0\n",
                            "Mentions Count          0\n",
                            "Post author verified    0\n",
                            "Likes                   0\n",
                            "Shares                  0\n",
                            "Comments                0\n",
                            "Impact                  0\n",
                            "dtype: int64"
                        ]
                    },
                    "metadata": {},
                    "execution_count": 196
                }
            ],
            "metadata": {}
        },
        {
            "cell_type": "code",
            "execution_count": 197,
            "source": [
                "#Importing necessary libraries\r\n",
                "from sklearn.ensemble import GradientBoostingRegressor\r\n",
                "from sklearn.model_selection import train_test_split\r\n",
                "from sklearn.metrics import mean_squared_error\r\n",
                "from sklearn.metrics import mean_absolute_error"
            ],
            "outputs": [],
            "metadata": {}
        },
        {
            "cell_type": "markdown",
            "source": [
                "The columns Id,Post Contet is dropped. I have not used any pre-processing operations. For unique identity unamed 0: is retained. Post content is dropped as all the necessary content is stored in columns to us from Chronicle’s engineering team. (Thanks to them )"
            ],
            "metadata": {}
        },
        {
            "cell_type": "code",
            "execution_count": 198,
            "source": [
                "df.drop([\"Id\"],axis=1,inplace=True)"
            ],
            "outputs": [],
            "metadata": {}
        },
        {
            "cell_type": "code",
            "execution_count": 199,
            "source": [
                "df.drop(['Post Contet','Unnamed: 0'],axis=1,inplace=True)"
            ],
            "outputs": [],
            "metadata": {}
        },
        {
            "cell_type": "code",
            "execution_count": 200,
            "source": [
                "df.columns"
            ],
            "outputs": [
                {
                    "output_type": "execute_result",
                    "data": {
                        "text/plain": [
                            "Index(['Sentiment score', 'Post Length', 'Hashtag count', 'Content URL count',\n",
                            "       'Tweet count', 'Followers count', 'Listed Count', 'Media Type',\n",
                            "       'Published DateTime', 'Mentions Count', 'Post author verified', 'Likes',\n",
                            "       'Shares', 'Comments', 'Impact'],\n",
                            "      dtype='object')"
                        ]
                    },
                    "metadata": {},
                    "execution_count": 200
                }
            ],
            "metadata": {}
        },
        {
            "cell_type": "code",
            "execution_count": 201,
            "source": [
                "# This column is found to have categories!!!! Lets handle them and convert to numbering type so we fit our models easily(Bindass!!)\r\n",
                "df['Media Type'].unique()"
            ],
            "outputs": [
                {
                    "output_type": "execute_result",
                    "data": {
                        "text/plain": [
                            "array(['TEXT', 'IMAGE', 'VIDEO'], dtype=object)"
                        ]
                    },
                    "metadata": {},
                    "execution_count": 201
                }
            ],
            "metadata": {}
        },
        {
            "cell_type": "code",
            "execution_count": 202,
            "source": [
                "#Am doing a simple value change not using any encoding things. Keeping the approach simple. :)\r\n",
                "df['Media Type'].replace(to_replace=['TEXT', 'IMAGE', 'VIDEO'], value=[1, 2, 3], inplace=True)"
            ],
            "outputs": [],
            "metadata": {}
        },
        {
            "cell_type": "markdown",
            "source": [
                "The Chronicle’s engineering team has bunched the date and time to single column. I dont like to drop that feature while modelling the models. But, to keep the model simple the column can be dropped. As of now will preserve it. \r\n",
                "If time doesnot permit me to use the column am dropping it. \r\n",
                "\r\n",
                "Below are the steps to do feature engineering for the column published datetime.\r\n",
                "Finally am dropping Published DateTime column to avoid redundency "
            ],
            "metadata": {}
        },
        {
            "cell_type": "code",
            "execution_count": 203,
            "source": [
                "df['Date'] = pd.to_datetime(df['Published DateTime'], format='%Y-%m-%d %H:%M:%S')"
            ],
            "outputs": [],
            "metadata": {}
        },
        {
            "cell_type": "code",
            "execution_count": 204,
            "source": [
                "df['Date'].dtype"
            ],
            "outputs": [
                {
                    "output_type": "execute_result",
                    "data": {
                        "text/plain": [
                            "datetime64[ns, UTC]"
                        ]
                    },
                    "metadata": {},
                    "execution_count": 204
                }
            ],
            "metadata": {}
        },
        {
            "cell_type": "code",
            "execution_count": 205,
            "source": [
                "df['date_delta'] = (df['Date'] - df['Date'].min())  / np.timedelta64(1,'D')"
            ],
            "outputs": [],
            "metadata": {}
        },
        {
            "cell_type": "code",
            "execution_count": 206,
            "source": [
                "df['minutes'] = df['Date'].dt.hour * 60 + df['Date'].dt.minute + df['Date'].dt.second/60"
            ],
            "outputs": [],
            "metadata": {}
        },
        {
            "cell_type": "code",
            "execution_count": 207,
            "source": [
                "df=df.drop([\"Published DateTime\",\"Date\"],axis=1)"
            ],
            "outputs": [],
            "metadata": {}
        },
        {
            "cell_type": "code",
            "execution_count": 208,
            "source": [
                "df.head()"
            ],
            "outputs": [
                {
                    "output_type": "execute_result",
                    "data": {
                        "text/plain": [
                            "   Sentiment score  Post Length  Hashtag count  Content URL count  \\\n",
                            "0              0.0         17.0            0.0                0.0   \n",
                            "1             19.3         84.0            0.0                1.0   \n",
                            "2              0.0         78.0            0.0                0.0   \n",
                            "3              0.0        284.0            2.0                0.0   \n",
                            "4            -20.0         80.0            0.0                1.0   \n",
                            "\n",
                            "   Tweet count  Followers count  Listed Count  Media Type  Mentions Count  \\\n",
                            "0       1660.0            133.0             0           1             0.0   \n",
                            "1     318924.0        1428273.0          5454           1             0.0   \n",
                            "2      39976.0           1560.0             0           1             0.0   \n",
                            "3       8045.0          27191.0            26           1             0.0   \n",
                            "4     210996.0           2385.0             0           2             0.0   \n",
                            "\n",
                            "   Post author verified  Likes  Shares  Comments  Impact  date_delta  \\\n",
                            "0                   0.0    0.0     0.0       0.0     0.0  302.735856   \n",
                            "1                   1.0   10.0     1.0       0.0   110.0  329.509213   \n",
                            "2                   0.0    0.0     0.0       0.0     0.0  167.276921   \n",
                            "3                   1.0  460.0   219.0       4.0  6830.0  319.386192   \n",
                            "4                   0.0    0.0     0.0       0.0     0.0   94.769792   \n",
                            "\n",
                            "      minutes  \n",
                            "0  737.400000  \n",
                            "1  411.033333  \n",
                            "2   76.533333  \n",
                            "3  233.883333  \n",
                            "4  786.266667  "
                        ],
                        "text/html": [
                            "<div>\n",
                            "<style scoped>\n",
                            "    .dataframe tbody tr th:only-of-type {\n",
                            "        vertical-align: middle;\n",
                            "    }\n",
                            "\n",
                            "    .dataframe tbody tr th {\n",
                            "        vertical-align: top;\n",
                            "    }\n",
                            "\n",
                            "    .dataframe thead th {\n",
                            "        text-align: right;\n",
                            "    }\n",
                            "</style>\n",
                            "<table border=\"1\" class=\"dataframe\">\n",
                            "  <thead>\n",
                            "    <tr style=\"text-align: right;\">\n",
                            "      <th></th>\n",
                            "      <th>Sentiment score</th>\n",
                            "      <th>Post Length</th>\n",
                            "      <th>Hashtag count</th>\n",
                            "      <th>Content URL count</th>\n",
                            "      <th>Tweet count</th>\n",
                            "      <th>Followers count</th>\n",
                            "      <th>Listed Count</th>\n",
                            "      <th>Media Type</th>\n",
                            "      <th>Mentions Count</th>\n",
                            "      <th>Post author verified</th>\n",
                            "      <th>Likes</th>\n",
                            "      <th>Shares</th>\n",
                            "      <th>Comments</th>\n",
                            "      <th>Impact</th>\n",
                            "      <th>date_delta</th>\n",
                            "      <th>minutes</th>\n",
                            "    </tr>\n",
                            "  </thead>\n",
                            "  <tbody>\n",
                            "    <tr>\n",
                            "      <th>0</th>\n",
                            "      <td>0.0</td>\n",
                            "      <td>17.0</td>\n",
                            "      <td>0.0</td>\n",
                            "      <td>0.0</td>\n",
                            "      <td>1660.0</td>\n",
                            "      <td>133.0</td>\n",
                            "      <td>0</td>\n",
                            "      <td>1</td>\n",
                            "      <td>0.0</td>\n",
                            "      <td>0.0</td>\n",
                            "      <td>0.0</td>\n",
                            "      <td>0.0</td>\n",
                            "      <td>0.0</td>\n",
                            "      <td>0.0</td>\n",
                            "      <td>302.735856</td>\n",
                            "      <td>737.400000</td>\n",
                            "    </tr>\n",
                            "    <tr>\n",
                            "      <th>1</th>\n",
                            "      <td>19.3</td>\n",
                            "      <td>84.0</td>\n",
                            "      <td>0.0</td>\n",
                            "      <td>1.0</td>\n",
                            "      <td>318924.0</td>\n",
                            "      <td>1428273.0</td>\n",
                            "      <td>5454</td>\n",
                            "      <td>1</td>\n",
                            "      <td>0.0</td>\n",
                            "      <td>1.0</td>\n",
                            "      <td>10.0</td>\n",
                            "      <td>1.0</td>\n",
                            "      <td>0.0</td>\n",
                            "      <td>110.0</td>\n",
                            "      <td>329.509213</td>\n",
                            "      <td>411.033333</td>\n",
                            "    </tr>\n",
                            "    <tr>\n",
                            "      <th>2</th>\n",
                            "      <td>0.0</td>\n",
                            "      <td>78.0</td>\n",
                            "      <td>0.0</td>\n",
                            "      <td>0.0</td>\n",
                            "      <td>39976.0</td>\n",
                            "      <td>1560.0</td>\n",
                            "      <td>0</td>\n",
                            "      <td>1</td>\n",
                            "      <td>0.0</td>\n",
                            "      <td>0.0</td>\n",
                            "      <td>0.0</td>\n",
                            "      <td>0.0</td>\n",
                            "      <td>0.0</td>\n",
                            "      <td>0.0</td>\n",
                            "      <td>167.276921</td>\n",
                            "      <td>76.533333</td>\n",
                            "    </tr>\n",
                            "    <tr>\n",
                            "      <th>3</th>\n",
                            "      <td>0.0</td>\n",
                            "      <td>284.0</td>\n",
                            "      <td>2.0</td>\n",
                            "      <td>0.0</td>\n",
                            "      <td>8045.0</td>\n",
                            "      <td>27191.0</td>\n",
                            "      <td>26</td>\n",
                            "      <td>1</td>\n",
                            "      <td>0.0</td>\n",
                            "      <td>1.0</td>\n",
                            "      <td>460.0</td>\n",
                            "      <td>219.0</td>\n",
                            "      <td>4.0</td>\n",
                            "      <td>6830.0</td>\n",
                            "      <td>319.386192</td>\n",
                            "      <td>233.883333</td>\n",
                            "    </tr>\n",
                            "    <tr>\n",
                            "      <th>4</th>\n",
                            "      <td>-20.0</td>\n",
                            "      <td>80.0</td>\n",
                            "      <td>0.0</td>\n",
                            "      <td>1.0</td>\n",
                            "      <td>210996.0</td>\n",
                            "      <td>2385.0</td>\n",
                            "      <td>0</td>\n",
                            "      <td>2</td>\n",
                            "      <td>0.0</td>\n",
                            "      <td>0.0</td>\n",
                            "      <td>0.0</td>\n",
                            "      <td>0.0</td>\n",
                            "      <td>0.0</td>\n",
                            "      <td>0.0</td>\n",
                            "      <td>94.769792</td>\n",
                            "      <td>786.266667</td>\n",
                            "    </tr>\n",
                            "  </tbody>\n",
                            "</table>\n",
                            "</div>"
                        ]
                    },
                    "metadata": {},
                    "execution_count": 208
                }
            ],
            "metadata": {}
        },
        {
            "cell_type": "code",
            "execution_count": 209,
            "source": [
                "#Am choosing all the columns for x by dropping the impact column and considering impact column for target value \r\n",
                "x = df.drop(\"Impact\",axis=1)\r\n",
                "y = df.loc[:,[\"Impact\"]]"
            ],
            "outputs": [],
            "metadata": {}
        },
        {
            "cell_type": "code",
            "execution_count": 210,
            "source": [
                "from sklearn.model_selection import train_test_split\r\n",
                "from sklearn.model_selection import cross_val_score\r\n",
                "from sklearn.model_selection import KFold\r\n",
                "from sklearn.pipeline import Pipeline\r\n",
                "from sklearn.preprocessing import MinMaxScaler\r\n",
                "from tensorflow.python.keras.models import Sequential\r\n",
                "from tensorflow.python.keras.layers import Dense\r\n",
                "from tensorflow.python.keras.wrappers.scikit_learn import KerasRegressor"
            ],
            "outputs": [],
            "metadata": {}
        },
        {
            "cell_type": "code",
            "execution_count": 211,
            "source": [
                "scaler_x = MinMaxScaler()\r\n",
                "scaler_y = MinMaxScaler()\r\n",
                "print(scaler_x.fit(x))\r\n",
                "xscale=scaler_x.transform(x)\r\n",
                "print(scaler_y.fit(y))\r\n",
                "yscale=scaler_y.transform(y)"
            ],
            "outputs": [
                {
                    "output_type": "stream",
                    "name": "stdout",
                    "text": [
                        "MinMaxScaler()\n",
                        "MinMaxScaler()\n"
                    ]
                }
            ],
            "metadata": {}
        },
        {
            "cell_type": "code",
            "execution_count": 212,
            "source": [
                "X_train, X_test, y_train, y_test = train_test_split(xscale, yscale)"
            ],
            "outputs": [],
            "metadata": {}
        },
        {
            "cell_type": "code",
            "execution_count": 216,
            "source": [
                "model = Sequential()\r\n",
                "model.add(Dense(12, input_dim=15, kernel_initializer='normal', activation='relu'))\r\n",
                "model.add(Dense(8, activation='relu'))\r\n",
                "model.add(Dense(1, activation='linear'))\r\n",
                "model.summary()"
            ],
            "outputs": [
                {
                    "output_type": "stream",
                    "name": "stdout",
                    "text": [
                        "Model: \"sequential_1\"\n",
                        "_________________________________________________________________\n",
                        "Layer (type)                 Output Shape              Param #   \n",
                        "=================================================================\n",
                        "dense_3 (Dense)              (None, 12)                192       \n",
                        "_________________________________________________________________\n",
                        "dense_4 (Dense)              (None, 8)                 104       \n",
                        "_________________________________________________________________\n",
                        "dense_5 (Dense)              (None, 1)                 9         \n",
                        "=================================================================\n",
                        "Total params: 305\n",
                        "Trainable params: 305\n",
                        "Non-trainable params: 0\n",
                        "_________________________________________________________________\n"
                    ]
                }
            ],
            "metadata": {}
        },
        {
            "cell_type": "code",
            "execution_count": 217,
            "source": [
                "model.compile(loss='mse', optimizer='adam', metrics=['mse','mae'])"
            ],
            "outputs": [],
            "metadata": {}
        },
        {
            "cell_type": "code",
            "execution_count": 220,
            "source": [
                "from tensorflow.python.keras import callbacks\r\n",
                "earlystopping = callbacks.EarlyStopping(monitor =\"val_loss\", \r\n",
                "                                        mode =\"min\", patience = 5, \r\n",
                "                                        restore_best_weights = True)\r\n",
                "history = model.fit(X_train, y_train, epochs=150, batch_size=50,  verbose=1, validation_split=0.2,callbacks =[earlystopping])"
            ],
            "outputs": [
                {
                    "output_type": "stream",
                    "name": "stdout",
                    "text": [
                        "Epoch 1/150\n",
                        "600/600 [==============================] - 2s 2ms/step - loss: 2.4426e-07 - mse: 2.4426e-07 - mae: 3.4036e-04 - val_loss: 1.4943e-08 - val_mse: 1.4943e-08 - val_mae: 6.7602e-05\n",
                        "Epoch 2/150\n",
                        "600/600 [==============================] - 2s 3ms/step - loss: 4.0720e-07 - mse: 4.0720e-07 - mae: 3.9938e-04 - val_loss: 1.1992e-07 - val_mse: 1.1992e-07 - val_mae: 3.1393e-04\n",
                        "Epoch 3/150\n",
                        "600/600 [==============================] - 2s 3ms/step - loss: 1.1561e-07 - mse: 1.1561e-07 - mae: 2.0462e-04 - val_loss: 4.8007e-08 - val_mse: 4.8007e-08 - val_mae: 1.3203e-04\n",
                        "Epoch 4/150\n",
                        "600/600 [==============================] - 2s 3ms/step - loss: 3.6089e-07 - mse: 3.6089e-07 - mae: 3.7175e-04 - val_loss: 1.9056e-07 - val_mse: 1.9056e-07 - val_mae: 3.6059e-04\n",
                        "Epoch 5/150\n",
                        "600/600 [==============================] - 2s 3ms/step - loss: 4.1318e-07 - mse: 4.1318e-07 - mae: 4.1918e-04 - val_loss: 1.8347e-07 - val_mse: 1.8347e-07 - val_mae: 3.4406e-04\n",
                        "Epoch 6/150\n",
                        "600/600 [==============================] - 2s 3ms/step - loss: 1.4027e-07 - mse: 1.4027e-07 - mae: 2.7140e-04 - val_loss: 5.0959e-08 - val_mse: 5.0959e-08 - val_mae: 1.9463e-04\n"
                    ]
                }
            ],
            "metadata": {}
        },
        {
            "cell_type": "code",
            "execution_count": 222,
            "source": [
                "test_results = {}\r\n",
                "test_results['linear_model'] = model.evaluate(\r\n",
                "    X_test, y_test)"
            ],
            "outputs": [
                {
                    "output_type": "stream",
                    "name": "stdout",
                    "text": [
                        "391/391 [==============================] - 1s 3ms/step - loss: 1.0860e-08 - mse: 1.0860e-08 - mae: 6.7107e-05\n"
                    ]
                }
            ],
            "metadata": {}
        },
        {
            "cell_type": "code",
            "execution_count": null,
            "source": [],
            "outputs": [],
            "metadata": {}
        }
    ],
    "metadata": {
        "orig_nbformat": 4,
        "language_info": {
            "name": "python"
        }
    },
    "nbformat": 4,
    "nbformat_minor": 2
}